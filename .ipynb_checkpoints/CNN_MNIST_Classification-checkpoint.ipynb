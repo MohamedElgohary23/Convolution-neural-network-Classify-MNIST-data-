{
 "cells": [
  {
   "cell_type": "code",
   "execution_count": 15,
   "id": "75bbd281",
   "metadata": {},
   "outputs": [],
   "source": [
    "import torch\n",
    "import torch.nn as nn\n",
    "import torchvision.transforms as transforms \n",
    "import torchvision.datasets as datasets\n",
    "import numpy as np"
   ]
  },
  {
   "cell_type": "code",
   "execution_count": 16,
   "id": "a6d34e7c",
   "metadata": {},
   "outputs": [],
   "source": [
    "#Specify mean and Stander devition of all pixels in Mnist dataset --> precomputed\n",
    "mean_gray = 0.1307\n",
    "stddev_gray = 0.3081\n",
    "\n",
    "# Transform the image to tenser\n",
    "# Normalize the tenser using Mean and Stander_deviation\n",
    "\n",
    "transform = transforms.Compose([transforms.ToTensor(),\n",
    "                               transforms.Normalize((mean_gray),(stddev_gray))])\n",
    "\n",
    "# loading The dataset\n",
    "train_dataset = datasets.MNIST(root='./data',\n",
    "                              train=True,\n",
    "                              transform=transform,\n",
    "                              download=True)\n",
    "\n",
    "test_dataset = datasets.MNIST(root='./data',\n",
    "                              train=False,\n",
    "                              transform=transform)"
   ]
  },
  {
   "cell_type": "code",
   "execution_count": 17,
   "id": "35fda424",
   "metadata": {},
   "outputs": [
    {
     "data": {
      "text/plain": [
       "<matplotlib.image.AxesImage at 0x213a4a81a90>"
      ]
     },
     "execution_count": 17,
     "metadata": {},
     "output_type": "execute_result"
    },
    {
     "data": {
      "image/png": "[encoded data removed]",
      "text/plain": [
       "<Figure size 640x480 with 1 Axes>"
      ]
     },
     "metadata": {},
     "output_type": "display_data"
    }
   ],
   "source": [
    "#Visulize training dataset\n",
    "import matplotlib.pyplot as plt\n",
    "random_image = train_dataset[20][0].numpy() * stddev_gray + mean_gray\n",
    "plt.imshow(random_image.reshape(28,28), cmap='gray')"
   ]
  },
  {
   "cell_type": "code",
   "execution_count": 18,
   "id": "58a12803-e6ca-4d7b-896c-59d1e95a2cb1",
   "metadata": {},
   "outputs": [
    {
     "data": {
      "text/plain": [
       "4"
      ]
     },
     "execution_count": 18,
     "metadata": {},
     "output_type": "execute_result"
    }
   ],
   "source": [
    "train_dataset[20][1]"
   ]
  },
  {
   "cell_type": "code",
   "execution_count": 19,
   "id": "5ab912c2-3fbb-4af6-992b-d51c1090eef1",
   "metadata": {},
   "outputs": [],
   "source": [
    "# Create the dataloader\n",
    "batch_size =100\n",
    "train_load = torch.utils.data.DataLoader(dataset = train_dataset \n",
    "                                        ,batch_size=batch_size,\n",
    "                                        shuffle = True)\n",
    "test_load = torch.utils.data.DataLoader(dataset = test_dataset \n",
    "                                        ,batch_size=batch_size,\n",
    "                                        shuffle = False)"
   ]
  },
  {
   "cell_type": "code",
   "execution_count": 20,
   "id": "e81b7a27-9614-4102-bcf3-8452e5b7490e",
   "metadata": {},
   "outputs": [
    {
     "name": "stdout",
     "output_type": "stream",
     "text": [
      "10000\n",
      "--------------\n",
      "60000\n"
     ]
    },
    {
     "data": {
      "text/plain": [
       "600"
      ]
     },
     "execution_count": 20,
     "metadata": {},
     "output_type": "execute_result"
    }
   ],
   "source": [
    "print(len(test_dataset))\n",
    "len(test_load)\n",
    "print(\"--------------\")\n",
    "print(len(train_dataset))\n",
    "len(train_load)"
   ]
  },
  {
   "cell_type": "code",
   "execution_count": 21,
   "id": "bb538ae5-7516-4ca4-a3bf-41a77f9be81c",
   "metadata": {},
   "outputs": [],
   "source": [
    "# Building the network\n",
    "class CNN(nn.Module):\n",
    "    def __init__(self):\n",
    "        super(CNN,self).__init__()\n",
    "        #same padding --> input_size = output_size \n",
    "        # input size =28\n",
    "        #same padding =(Kernal_size-1)/2  (3-1)/2 = 1\n",
    "        self.cnn1 = nn.Conv2d(in_channels=1 , out_channels=8 ,kernel_size=3 ,stride=1 ,padding=1)\n",
    "        # output size of 8 feature map = ((input_size-filter_size +(2*padding))/stride) + 1\n",
    "        #out_size = ((28 - 3 +(2*1))/1)+1 =28  \n",
    "        self.batchnorm1 = nn.BatchNorm2d(8) \n",
    "        self.relu = nn.ReLU()\n",
    "        self.maxpool= nn.MaxPool2d(kernel_size=2)\n",
    "        #out_size =28/2 =14\n",
    "        \n",
    "        \n",
    "        #same padding (kernal_size -1)/2 ---> (5-1)/2= 2\n",
    "        self.cnn2 = nn.Conv2d(in_channels=8, out_channels=32, kernel_size=5, stride=1,padding=2)\n",
    "        #out_size = ((input_size-filter_size +(2*padding))/stride) + 1\n",
    "        #out_size= (14-5+(2*2)/1)  +1 -->14\n",
    "        self.batchnorm2 = nn.BatchNorm2d(32)\n",
    "        # after apllying maxpooling again the output size = 14/2 = 7\n",
    "        \n",
    "        #befer aplly fully conected layer we will flatten the image\n",
    "        #Flatten the 32 feature map --> 32*7*7 = 1568\n",
    "        self.fc1 = nn.Linear(1568,600)\n",
    "        self.dropout = nn.Dropout(p=0.5) # apply dropout\n",
    "        self.fc2 = nn.Linear(600,10) # we have 10 clasees\n",
    "        \n",
    "    def forward(self, x): \n",
    "        out = self.cnn1(x)\n",
    "        out = self.batchnorm1(out)\n",
    "        out = self.relu(out)\n",
    "        out = self.maxpool(out)\n",
    "        \n",
    "        out = self.cnn2(out)\n",
    "        out = self.batchnorm2(out)\n",
    "        out = self.relu(out)\n",
    "        out = self.maxpool(out)\n",
    "        \n",
    "        #Flatten the 32 feature map from max pooling 2 to feed it to fc1 -- 32*7*7 = 1568\n",
    "        out = out.view(-1,1568)\n",
    "        #Then feed forward\n",
    "        out = self.fc1(out)\n",
    "        out = self.relu(out)\n",
    "        out = self.dropout(out)\n",
    "        out = self.fc2(out)\n",
    "        \n",
    "        return out"
   ]
  },
  {
   "cell_type": "code",
   "execution_count": 22,
   "id": "b9c85810",
   "metadata": {},
   "outputs": [],
   "source": [
    "model = CNN()\n",
    "loss_fn = nn.CrossEntropyLoss()\n",
    "optimizer = torch.optim.Adam(model.parameters(), lr=0.01)"
   ]
  },
  {
   "cell_type": "markdown",
   "id": "0ab0262a",
   "metadata": {},
   "source": [
    "## Understanding the propgation\n"
   ]
  },
  {
   "cell_type": "code",
   "execution_count": 25,
   "id": "ae024267",
   "metadata": {},
   "outputs": [
    {
     "name": "stdout",
     "output_type": "stream",
     "text": [
      "for one iteration this what happen \n",
      "Input shape torch.Size([100, 1, 28, 28])\n",
      "labels shape torch.Size([100])\n",
      "output shape is torch.Size([100, 10])\n",
      "predicted shape is torch.Size([100])\n",
      "predicted tensor: \n",
      " tensor([7, 2, 2, 3, 7, 7, 7, 2, 3, 2, 3, 7, 7, 3, 7, 3, 7, 7, 7, 7, 3, 3, 9, 7,\n",
      "        3, 6, 7, 7, 3, 5, 2, 3, 1, 3, 7, 7, 3, 2, 6, 7, 7, 3, 3, 6, 3, 2, 2, 7,\n",
      "        2, 9, 6, 3, 4, 5, 9, 2, 3, 4, 7, 7, 9, 7, 3, 7, 3, 7, 5, 3, 7, 7, 5, 3,\n",
      "        7, 3, 7, 7, 7, 7, 7, 7, 3, 2, 8, 5, 1, 7, 7, 7, 6, 3, 7, 3, 5, 9, 7, 4,\n",
      "        7, 5, 7, 3])\n",
      "100\n"
     ]
    }
   ],
   "source": [
    "iteration = 0 \n",
    "correct = 0\n",
    "for i, (inputs, labels) in enumerate (train_load):\n",
    "    \n",
    "    print('for one iteration this what happen ')\n",
    "    #Each tenser prooagated through the network should be 4d\n",
    "    #(batch_size, channel, rows ,columns)\n",
    "    \n",
    "    print('Input shape',inputs.shape)\n",
    "    print('labels shape',labels.shape)\n",
    "    \n",
    "    output = model(inputs) # Aplly forward propagation\n",
    "    print(\"output shape is\",output.shape)\n",
    "    \n",
    "    _, predicted = torch.max(output,1)\n",
    "    print(\"predicted shape is\",predicted.shape)\n",
    "    print(\"predicted tensor: \\n\",predicted)\n",
    "    print(len(predicted))\n",
    "    correct += (predicted == labels).sum()\n",
    "    break"
   ]
  },
  {
   "cell_type": "code",
   "execution_count": null,
   "id": "953fd4c5",
   "metadata": {},
   "outputs": [],
   "source": [
    "#Training The Cnn\n",
    "num_epochs = 10\n",
    "train_loss = []\n",
    "train_accurcy = []\n",
    "test_loss = []\n",
    "test_accurcy =[]\n",
    "\n",
    "#loop for train whlole data\n",
    "for epoch in range (num_epochs):\n",
    "    correct = 0\n",
    "    iterations = 0\n",
    "    iter_loss = 0.0 # loss for each itertion\n",
    "    \n",
    "    #Train mode\n",
    "    model.train()\n",
    "    \n",
    "    for i, (inputs ,labels) in enumerate (train_load):\n",
    "        \n",
    "        outputs = model(inputs)  #Aplly forward propgation\n",
    "        loss = loss_fn(outputs, labels) # clculate loss for this iteration\n",
    "        iter_loss += loss.item() # apeend loss for each itertion to all4\n",
    "        \n",
    "        optimizer.zero_grad()# w--> w -lr* gradient\n",
    "        loss.backward  # aplly back propagation\n",
    "        optimizer.step()\n",
    "        \n",
    "        _, predicted = torch.max(outputs,1) # store index of high predicted\n",
    "        correct += (predicted==labels)\n",
    "        iterations += 1\n",
    "        \n",
    "    train_loss.append(iter_loss/iterations)\n",
    "    train_accurcy.append(correct/len(train_load))\n",
    "    "
   ]
  },
  {
   "cell_type": "code",
   "execution_count": null,
   "id": "d072ab2f",
   "metadata": {},
   "outputs": [],
   "source": []
  }
 ],
 "metadata": {
  "kernelspec": {
   "display_name": "Python 3 (ipykernel)",
   "language": "python",
   "name": "python3"
  },
  "language_info": {
   "codemirror_mode": {
    "name": "ipython",
    "version": 3
   },
   "file_extension": ".py",
   "mimetype": "text/x-python",
   "name": "python",
   "nbconvert_exporter": "python",
   "pygments_lexer": "ipython3",
   "version": "3.11.5"
  }
 },
 "nbformat": 4,
 "nbformat_minor": 5
}
